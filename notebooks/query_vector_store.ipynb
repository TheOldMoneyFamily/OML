﻿{
    "cells": [
     {
      "cell_type": "code",
      "execution_count": null,
      "metadata": {},
      "outputs": [],
      "source": [
       "# Query Vector Store Notebook\n",
       "\n",
       "import faiss\n",
       "from src.chatbot import search_similar\n",
       "\n",
       "# Load vector store\n",
       "index = faiss.read_index('../data/embeddings/vector_store.index')\n",
       "segments = [\n",
       "    \"Sample text 1.\",\n",
       "    \"Sample text 2.\"\n",
       "]\n",
       "\n",
       "# Query\n",
       "query = \"Sample query.\"\n"
      ]
     }
    ]
   }